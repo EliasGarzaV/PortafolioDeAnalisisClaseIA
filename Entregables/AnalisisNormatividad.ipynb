{
 "cells": [
  {
   "cell_type": "markdown",
   "metadata": {},
   "source": [
    "## Sobre el problema y los datos utilizados\n",
    "\n",
    "Tenemos un  problema de regresión con datos de profesores en una universidad con los cuales vamos a intentar predecir su salario. Tenemos un rango de variables como lo son su puesto actual, la materia que imparten, la cantidad de años desde que obtuvieron su doctorado, los años que llevan trabajando y su sexo. Asimismo, tambien tenemos la columna del salario de profesores para hacer la prueba. Este dataset lo pueden encontrar en [Datos_Salariales](Data/salary.csv).\n",
    "\n",
    "Algo importante de este set de datos es que no incluye datos personales o identificadores de los maestros lo cual nos será más importante luego. \n",
    "\n",
    "## Utilización de la información\n",
    "\n",
    "En México existen 2 leyes que pueden sernos importantes para revisar la normatividad del dataset utilizado:\n",
    "\n",
    " 1. Ley Federal de Protección de Datos Personales en Posesión de los Particulares (LFPDPPP)\n",
    " 2. Ley General de Protección de Datos Personales en Posesión de Sujetos Obligados\n",
    "\n",
    "Ambas tratar acerca de la protección de datos personales como el salario de un grupo de maestros. La diferencia entre ellas es que la segunda habla especificamente sobre personas que trabajen para el sector público ya que la protección de datos cambia con respecto a los que trabajan en el secotr privado. \n",
    "\n",
    "En este caso, no sabemos cual de las dos leyes aplica ya que quien subió los datos a kaggle no menciona de que universidad o institución vienen por lo que desconocemos si son empleados de gobierno o no. Sin embargo, tomaremos el primer caso. \n",
    "\n",
    "Esta ley se puede encontrar en:\n",
    "http://www.diputados.gob.mx/LeyesBiblio/pdf/LFPDPPP.pdf\n",
    "\n",
    "A primera visto pordiamos pensar que estamos violando la norma al utilizar estos datos pero el articulo 10 dice lo siguiente:\n",
    "\n",
    "Artículo 10.- No será necesario el consentimiento para el tratamiento de los datos personales cuando:\n",
    "\n",
    "I. Esté previsto en una Ley;\n",
    "\n",
    "II. Los datos figuren en fuentes de acceso público;\n",
    "\n",
    "III. Los datos personales se sometan a un procedimiento previo de disociación;\n",
    "\n",
    "IV. Tenga el propósito de cumplir obligaciones derivadas de una relación jurídica entre el titular y el \n",
    "responsable;\n",
    "\n",
    "V. Exista una situación de emergencia que potencialmente pueda dañar a un individuo en su \n",
    "persona o en sus bienes;\n",
    "\n",
    "VI. Sean indispensables para la atención médica, la prevención, diagnóstico, la prestación de \n",
    "asistencia sanitaria, tratamientos médicos o la gestión de servicios sanitarios, mientras el titular \n",
    "no esté en condiciones de otorgar el consentimiento, en los términos que establece la Ley \n",
    "General de Salud y demás disposiciones jurídicas aplicables y que dicho tratamiento de datos se \n",
    "realice por una persona sujeta al secreto profesional u obligación equivalente, o\n",
    "\n",
    "VII. Se dicte resolución de autoridad competente.\n",
    "\n",
    "Aquí nos interesa la subsección III. ya que dice explicitamente que podemos utilizar los datos siempre y cuando se sometan antes a un proceso de disociación. Es decir, no podamos identificar a nadie con ayuda de estos. \n",
    "\n",
    "Esto debido a que no tenemos ninguna variable de indentificación como el nombre o nómina, asi como no sabemos ni siquera el nombre de la institución a la que pertenecen por lo que no hay forma real de asociar una entrada del dataset con una persona física. \n",
    "\n",
    "Sin embargo, si se llegara a filtar esta información y pudieramos asociar a estas personas esta sería una falta grave a la ley de protección de datos. El salario es considerado como un dato sensible debido a la importancia de este en la vida cotidiana. Como ejemplo, si un salario fuera público es probable que se tengan ciertos problemas al momento de solicitar un crédito o de hacer algún proceso bancario. Además de que promueve cierto nivel de clasismo entre los involucrados. "
   ]
  }
 ],
 "metadata": {
  "language_info": {
   "name": "python"
  },
  "orig_nbformat": 4
 },
 "nbformat": 4,
 "nbformat_minor": 2
}
